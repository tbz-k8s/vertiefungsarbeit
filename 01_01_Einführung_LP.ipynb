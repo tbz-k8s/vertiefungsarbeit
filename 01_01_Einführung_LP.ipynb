{
 "cells": [
  {
   "cell_type": "markdown",
   "metadata": {},
   "source": [
    "# Einführung\n",
    "\n",
    "## Ablage und Unterhalt\n",
    "\n",
    "Wie dieses Notebook, werdet ihr eure Unterrichtseinheiten resp. Scripts, bestenfalls hier interaktiv verfügbar machen. \n",
    "Nun ist die Frage wie man den Unterrichtsinhalt verfügbar macht wieder aus Jupyter raus bringt. Hierzu muss man verstehen, dass das Verzeichniss in dem dieses Notebook liegt, nach aussen verfügabr gemacht wird. Das ist um Lernkube unter /data/notebooks auffindbar. \n",
    "Ergo kann man hier Notebooks rein und raus nehmen was 1:1 dem bereitstellen für die Schüler entspricht.  \n",
    "\n",
    "Im Schulaltag können die Schüler die Notebooks einfach über einen Upload Button hineinladen, oder eben unter diesem Pfad ablegen - Ersteres würde ich empfehlen. "
   ]
  },
  {
   "cell_type": "markdown",
   "metadata": {},
   "source": [
    "## Jupyter"
   ]
  },
  {
   "cell_type": "markdown",
   "metadata": {},
   "source": [
    "Wie erwähnt bietet Jupyter eine Menge Möglichkeiten um mit Daten und Phyton umzugehen. Nun ist hier eine Erweiterung namens BeakerX (http://beakerx.com) im Einsatz die weitere Sprachen als Phyton ermöglichen. Das ist an sich super, hilft aber nicht unbedingt beim beibehalten der Übersicht im Gesamtkonzept."
   ]
  },
  {
   "cell_type": "markdown",
   "metadata": {},
   "source": [
    "### Struktur\n",
    "\n",
    "Die Struktur ist grundsätzlch an einer klassischen Ordnerstruktur orientiert. Es ist leider nicht möglich die gesamte Struktur mit Ordnern udn UNterordnern über das UI zu exportieren. Je nach dem könnte man also zB SQL Script als Übungsmaterial direkt hier als Gesamtpaket mit einzelnen Notebooks zu den Themen abliefern, sodass der Schüler diese einmalig vom BSCW importieren muss. "
   ]
  },
  {
   "cell_type": "markdown",
   "metadata": {},
   "source": [
    "### Bedienelemente\n",
    "#### Übersicht\n",
    "\n",
    "![Uebersicht](https://raw.githubusercontent.com/zoink1989/vertiefungsarbeit/master/bilder/gesammtuebersicht_ohne_optionen.png) \n",
    "\n",
    "Die Übersicht ist relativ selbsterklärend. Hier sieht man im Grundordner \"work\" das Notebook liegen was wir hier gerade lesen und bearbeiten. \n",
    "Durch das Auswählen des oder der Notebooks verändert sich die Überischt. \n",
    "\n",
    "![Uebersicht](https://raw.githubusercontent.com/zoink1989/vertiefungsarbeit/master/bilder/gesammtuebersicht_mit_optionen_1.png)\n",
    "\n",
    "Hier haben wir die Möglichkeit das Notebook zu Duplizieren um eine zweite Version zu erstellen, neu zu benennen, zu verschieben und herunterzuladen. Natürlich sind die weiteren Optionen wie Anschauen und Editieren ebenso möglich.\n",
    "\n",
    "Im Prinzip kann ich nun hier hergehen und alle meine Notebooks herunterladen und in einem ZIP verpackt aufs BSCW ablegen. Dort können die Schüler dann die Notebook für das Modul herunterladen und über das UI in ihrem eigenen Notebook hineinladen. \n",
    "\n",
    "<b> Upload </b>\n",
    "Dies geht über den Upload Butten der ebenfalls ersichtlich ist.<br/> Sobald ich diesen betätige, öffnet sich ein Fenster um die Dateien ab dem Rechner auszuwählen. \n",
    "\n",
    "Ebenso kann ich in dieser Ansicht neue Notebooks anlegen. Hier sind aber noch verschiedene Optionen ersichtlich. \n",
    "\n",
    "\n"
   ]
  },
  {
   "cell_type": "markdown",
   "metadata": {},
   "source": [
    "## Grundlegende Steuerungselemente in deinem Notebook\n",
    "\n",
    "![](https://raw.githubusercontent.com/zoink1989/vertiefungsarbeit/master/bilder/Bedienelemente.png)\n",
    "\n"
   ]
  },
  {
   "cell_type": "markdown",
   "metadata": {},
   "source": [
    "Bevor wir hier loslegen, müssen wir die Grundidee von Jupyter nochmals aufrollen: Wissenschaftliche Zahlen nachvollziehbar aufarbeiten und vermittel.\n",
    "Jupyter ist darauf ausgelegt Arbeitsschritte zu veranschaulichen. Das Dokument resp Notebook ist in nacheinander auszuführende Zellen eingeteilt. \n",
    "\n",
    "![](https://raw.githubusercontent.com/zoink1989/vertiefungsarbeit/master/bilder/zellentyp.png)\n",
    "\n",
    "Wenn ich eine Zelle anwähle kann ich im oberen Rand definieren um was für ein Inhalt es sich in dieser Zelle handelt. In diesem Fall ist eis einfacher Markdown Text. Da ich Formatierungen verwende die nicht als Code oder RAW oder sonstiges zu verstehen ist, sondern als Beschreibende Sprache. Hier wählt man also aus wie der Inhalt interpretiert und aufgearbeitet wird.\n",
    "\n",
    "\n",
    "1. Habe ich meinen Code oder meinen Markdown Text in der Zelle abgefüllt, kann ich mit dem <b>Run</b> Knopf den Inhalt ausführen. Erst dann wird der Code ausgeführt.\n",
    "\n",
    "2. Wenn der Code einfach nicht weiter will, und in der linken Checkbox \"[...]\" immer noch ein Stern statt einer Zahl, kann es sein das der Code in ein Timout oder einem Loop hängengeblieben ist. Um das ausführen zu stoppen kann man hier den Stop Button betätigen. \n",
    "\n",
    "3. Hiermit kann der Kernel zurückgesetzt werden, dies gilt für die Zelle die ausgewählt wurde. \n",
    "\n",
    "4. Hiermit kann man die gerade angewählte Zelle überspringen und weiterfahren. \n",
    "\n",
    "5. Zwar sichert Jupyter alle 2 Minuten automatisch, hier kann man sich aber nochmals manuell versichern das die Daten nicht verloren gehen.\n",
    "\n",
    "6. Mit dem \"+\" erzeugt man neue Zellen. \n",
    "\n",
    "7. Schliesslich kann an unter diesem Punkt die Inhalte hier teilen. Dies geht direkt über einen Github Account den man hier in Form eines Tokens hinterlegt.  "
   ]
  },
  {
   "cell_type": "markdown",
   "metadata": {},
   "source": [
    "## Textfeld"
   ]
  },
  {
   "cell_type": "markdown",
   "metadata": {},
   "source": [
    "Das ist ein einfaches Feld. Es ist sehr genügsam und steht einfach für sich. Dessen Job ist es, dem Schüler zu erklären worum es hier geht. \n",
    "\n",
    "Beispielsweise füren wir hier aus wie eine Verbindung zur MariaDB mit dem JDBC Treiber Funktioniert und wie der Syntax funktioniert. \n",
    "\n",
    "```%defaultDatasource jdbc:mysql://db-module-mariadb/db?user=root&password=root```"
   ]
  },
  {
   "cell_type": "markdown",
   "metadata": {},
   "source": [
    "## RAM Feld"
   ]
  },
  {
   "cell_type": "raw",
   "metadata": {},
   "source": [
    "RAW Felder interpretieren rein gar nichts. Es zeigt einfach 1:1 das ein was eingetippt wurde und eignet sich für Code."
   ]
  },
  {
   "cell_type": "raw",
   "metadata": {},
   "source": [
    "Beispielsweise:\n",
    "\n",
    "%defaultDatasource ist eine Variable von Jupyter und legt die StandardDB fest. \n",
    "\n",
    "jdbc                                                         beschreibt den Treiber, da gibt es grundätzlich noch andere\n",
    "jdbc:mysql                                                   beschreibt welche DB angesteuert wird\n",
    "jdbc:mysql://db-module-mariadb                               beschreibt in der URL wo de DB liegt, in dem Fall ist dies der Dockerinterne DNS Name , mariadb\n",
    "jdbc:mysql://db-module-mariadb/db                            Zusätzlich beschrieben wir die Datenbank resp den Datenbanknamen\n",
    "jdbc:mysql://db-module-mariadb/db?user=root&password=beakerx    \"?\" trennt die URL von den Variabeln, Benutzer und Passwortabfrage werden wiederum durch ein \"&\" verbunden\n",
    "\n"
   ]
  },
  {
   "cell_type": "markdown",
   "metadata": {},
   "source": [
    "\n",
    "Anmschliessend wollen wir vorführen wie der Code ausgeführt wird und erstellen die das nächste Feld mit dem Typ \"Code\", kopiert den Code rein und führt den mit der Play Taste aus. %defaultDatasource dbc:mysql://mariadb/db?user=root&password=root gibt an dieser Stelle keine Antwort aus."
   ]
  },
  {
   "cell_type": "code",
   "execution_count": null,
   "metadata": {},
   "outputs": [],
   "source": [
    "%defaultDatasource jdbc:mysql://mariadb/db?user=root&password=beakerx"
   ]
  },
  {
   "cell_type": "markdown",
   "metadata": {},
   "source": [
    "Anders ist es, wenn wir eine SQL Abfrage platzieren. Da wir vorhin bereits die Defaultverbindung definiert haben, werden alle Abfragen immer an die selbe Datenbank weitergegeben"
   ]
  },
  {
   "cell_type": "code",
   "execution_count": 2,
   "metadata": {
    "scrolled": true
   },
   "outputs": [],
   "source": [
    "CREATE TABLE tbl_Module (\n",
    "    name varchar(255),\n",
    "    nummer int,\n",
    "    lehrperson varchar(255)\n",
    ");"
   ]
  },
  {
   "cell_type": "code",
   "execution_count": 3,
   "metadata": {},
   "outputs": [],
   "source": [
    "SELECT * FROM tbl_module"
   ]
  },
  {
   "cell_type": "markdown",
   "metadata": {},
   "source": [
    "Logischerweise sind hier noch keine Eingaben zu sehen, da auch erst die Tabelle erstellt wurde. \n",
    "Wenn wir noch Inhalten einfügen, wird das aber anders aussehen. \n"
   ]
  },
  {
   "cell_type": "code",
   "execution_count": 4,
   "metadata": {},
   "outputs": [],
   "source": [
    "INSERT INTO tbl_module\n",
    "VALUES (\"Datenbanken\", 123, \"Gesell\");"
   ]
  },
  {
   "cell_type": "code",
   "execution_count": 5,
   "metadata": {},
   "outputs": [
    {
     "data": {
      "application/vnd.jupyter.widget-view+json": {
       "model_id": "96fda9b2-3ac9-479a-9f9c-b395bbe3b7ff",
       "version_major": 2,
       "version_minor": 0
      },
      "method": "display_data"
     },
     "metadata": {},
     "output_type": "display_data"
    }
   ],
   "source": [
    "SELECT * FROM tbl_module"
   ]
  },
  {
   "cell_type": "raw",
   "metadata": {},
   "source": [
    "Die MariaDB welche hier angesprochen wird, ist ebenfalls mit phpMyAdmin <http://<MeineURL>:8081 verlinkt und sogar von aussen ansprechbar! Zusätzliche Datenbanken können natürlich erstellt werden, vergesst aber nicht enstprechend den "
   ]
  },
  {
   "cell_type": "markdown",
   "metadata": {},
   "source": [
    "# Gestalltung"
   ]
  },
  {
   "cell_type": "markdown",
   "metadata": {},
   "source": [
    "Wir haben hier die Möglichkeit den Text anhand von Markdown welches an HTML anglehnt ist, zu realisieren. Ich denke die meisten wenn nicht alle Personen die dieses Dokument lesen haben sicherlich bereits von Markdown gehört. NIchts desto trotz hier eine kleine Wiederholung: \n",
    "\n",
    "Hierfür muss der Typ des Texfeldes auf \"Markdown\" gestellt sein, ansonsten wird der Text als Code interprettiert und generiert Fehlermeldungen, oder er ist als RAW definiert und macht rein gar nichts. \n",
    "\n",
    "Unter diesem Link https://guides.github.com/features/mastering-markdown/ findet ihr etwas mehr Informationen als ich euch nun geben werde. "
   ]
  },
  {
   "cell_type": "markdown",
   "metadata": {},
   "source": [
    "## Grundsätzlicher Umgang\n",
    "\n",
    "Hier in Jupyter werden Tags die eine Funktion erfüllen, blau und fett angezeigt sobald sie beim Ausführen der Zelle greiffen.\n",
    "\n",
    "## Sonderzeichen\n",
    "Sonderzeichen nehmen in Markdown eine spezielle Postition ein. Hierbei wird zB ein Hashtag bzw ein Raute # alleinstehend als Raute dargestellt. Wenn man aber zuerst die Raute und direkt anschliessend der Text geschrieben wird, wird beim Trennen der beiden die Raute als Markdownzeichen interprettiert welches analog in HTML ein \"< h1 >\" Tag entsräche und der Text wird als Titel vergrössert.\n",
    "    \n",
    "Im ügrigen funktionieren hier auch HTML Tags!\n",
    "\n",
    "Hier gibt es ganz viele verschieden konstellationen die Listen, Tabellen, Checkboxen etc ermöglichen und je nach dem aber auch gerne mal reingrätschen wenn man sie nicht erwartet. Mehr dazu findet ihr in der entsprechenden Dokumenation welche ich oben angehängt habe. "
   ]
  },
  {
   "cell_type": "markdown",
   "metadata": {},
   "source": [
    "## Bilder\n",
    "\n",
    "\n",
    "\n",
    "Auch Bilder können nagehängt werden. Hier ist allerdings etwas zu beachten wenn Lehrmittel mit Bilder ausgeliefert werden. \n",
    "Entweder ihr referenziert auf eine Online Quelle, dann könnt ihr mit diesem Syntax abrufen: \n"
   ]
  },
  {
   "cell_type": "raw",
   "metadata": {},
   "source": [
    "![Eine Bildbeschreibung](https://octodex.github.com/images/yaktocat.png) "
   ]
  },
  {
   "cell_type": "markdown",
   "metadata": {},
   "source": [
    "Alternativ kann man ein Bild auch im Ordner \"Bilder\" hinterlgen welcher im Jupyter Volume beigelegt ist. Dieser ist auch hier ersichtlich. \n",
    "Dabei muss aber anders auf das Bild referenziert werden, nämlich aus der Sicht des Root Ordners. In diesem Fall wäre das der Jupyter Ordner. Wenn ich also auf das Bild \"yaktocat.png\" zeigen möchte damit es in eminem Dokument erscheint, muss ich anstatt einer WEB URL den Pfad angeben."
   ]
  },
  {
   "cell_type": "raw",
   "metadata": {},
   "source": [
    "![Eine Bildbeschreibung](./bilder/yaktocat.png)"
   ]
  },
  {
   "cell_type": "markdown",
   "metadata": {},
   "source": [
    "Naheliegend ist jedoch das die zweite Variante sehr Fehleranfällig ist, auch wenn alle Umgebungen gleich sein sollten, ist erfahrungsgemäss das ablegen der Bilder in einem Ordner einiges umständlicher von der Referenzierung her, als das Bild zB auf Github.com zu laden, und das entsprechende Bild so einzufügen. Deswegen empfiehlt es sich die Bilder auf einem Github Repository zu stellen, und diese hierher zu verlinken. \n"
   ]
  },
  {
   "cell_type": "markdown",
   "metadata": {},
   "source": [
    " # Kurz und Bündig\n",
    " \n",
    " - Jupyter biete uns eine schöne Möglichkeit von statischen und langweiligen PDF's, oder sager Papier(!) weg zu kommen. \n",
    " - Wir können SQL Code direkt in Jupyter ausführen und bekommen direktes Feedback aus der SQL Konsole.\n",
    " - Am Praktikabelsten ist, wenn die Notebooks auf dem BSCW liegen und die Schüler diese selbst importieren.\n",
    " - Markdown ist einiges angenehmer zu handhaben als Word.\n",
    " - Was mit SQL auf die Datenbank ausgeführt wird, wird wirklich mit SQL auf die Datenbank ausgeführt. Das ist 1:1 mit phpMyAdmin nachvollziehbar. Es handelt sich hier NICHT um eine Simulation.\n",
    " - Die Datenbank kann ebenfalls mit Tools vom lokalen Gerät angesprochen und bearbeitet werden."
   ]
  },
  {
   "cell_type": "code",
   "execution_count": null,
   "metadata": {},
   "outputs": [],
   "source": []
  }
 ],
 "metadata": {
  "kernelspec": {
   "display_name": "SQL",
   "language": "SQL",
   "name": "sql"
  },
  "language_info": {
   "codemirror_mode": "sql",
   "file_extension": ".sql",
   "mimetype": "",
   "name": "SQL",
   "nbconverter_exporter": "",
   "version": ""
  },
  "toc": {
   "base_numbering": 1,
   "nav_menu": {},
   "number_sections": false,
   "sideBar": false,
   "skip_h1_title": false,
   "title_cell": "Table of Contents",
   "title_sidebar": "Contents",
   "toc_cell": false,
   "toc_position": {},
   "toc_section_display": false,
   "toc_window_display": false
  },
  "widgets": {
   "application/vnd.jupyter.widget-state+json": {
    "state": {
     "ee0ecc7c-ef37-40b8-ac6b-28b683e6ac3a": {
      "model_module": "beakerx",
      "model_module_version": "*",
      "model_name": "TableDisplayModel",
      "state": {
       "model": {
        "alignmentForColumn": {},
        "alignmentForType": {},
        "cellHighlighters": [],
        "columnNames": [
         "id",
         "name",
         "nummer",
         "lehrperson"
        ],
        "columnOrder": [],
        "columnsFrozen": {},
        "columnsFrozenRight": {},
        "columnsVisible": {},
        "contextMenuItems": [],
        "contextMenuTags": {},
        "dataFontSize": null,
        "doubleClickTag": null,
        "fontColor": [],
        "hasDoubleClickAction": false,
        "hasIndex": null,
        "headerFontSize": null,
        "headersVertical": false,
        "rendererForColumn": {},
        "rendererForType": {},
        "stringFormatForColumn": {},
        "stringFormatForTimes": null,
        "stringFormatForType": {},
        "subtype": "TableDisplay",
        "timeZone": null,
        "tooManyRows": false,
        "tooltips": [],
        "type": "TableDisplay",
        "types": [
         "java.lang.Integer",
         "java.lang.String",
         "java.lang.Integer",
         "java.lang.String"
        ],
        "values": [
         [
          0,
          "Datenbanken",
          123,
          "Gesell"
         ],
         [
          0,
          "Datenbanken",
          123,
          "Gesell"
         ]
        ]
       }
      }
     }
    },
    "version_major": 2,
    "version_minor": 0
   }
  }
 },
 "nbformat": 4,
 "nbformat_minor": 2
}
